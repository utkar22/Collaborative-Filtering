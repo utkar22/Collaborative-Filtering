{
  "nbformat": 4,
  "nbformat_minor": 0,
  "metadata": {
    "colab": {
      "provenance": []
    },
    "kernelspec": {
      "name": "python3",
      "display_name": "Python 3"
    },
    "language_info": {
      "name": "python"
    }
  },
  "cells": [
    {
      "cell_type": "code",
      "source": [
        "!wget -O movielens-100k.zip http://files.grouplens.org/datasets/movielens/ml-100k.zip\n",
        "!unzip -q movielens-100k.zip -d movielens-100k"
      ],
      "metadata": {
        "colab": {
          "base_uri": "https://localhost:8080/"
        },
        "id": "K20anzR2nfxG",
        "outputId": "3790a22c-47ed-46ec-8179-d5967615cd03"
      },
      "execution_count": 27,
      "outputs": [
        {
          "output_type": "stream",
          "name": "stdout",
          "text": [
            "--2023-05-08 05:33:24--  http://files.grouplens.org/datasets/movielens/ml-100k.zip\n",
            "Resolving files.grouplens.org (files.grouplens.org)... 128.101.65.152\n",
            "Connecting to files.grouplens.org (files.grouplens.org)|128.101.65.152|:80... connected.\n",
            "HTTP request sent, awaiting response... 200 OK\n",
            "Length: 4924029 (4.7M) [application/zip]\n",
            "Saving to: ‘movielens-100k.zip’\n",
            "\n",
            "movielens-100k.zip  100%[===================>]   4.70M  27.4MB/s    in 0.2s    \n",
            "\n",
            "2023-05-08 05:33:24 (27.4 MB/s) - ‘movielens-100k.zip’ saved [4924029/4924029]\n",
            "\n",
            "replace movielens-100k/ml-100k/allbut.pl? [y]es, [n]o, [A]ll, [N]one, [r]ename: A\n"
          ]
        }
      ]
    },
    {
      "cell_type": "code",
      "source": [
        "# Import necessary libraries\n",
        "import numpy as np\n",
        "import pandas as pd\n",
        "from numpy.linalg import svd\n",
        "\n",
        "# Load Movielens 100K dataset\n",
        "url = 'http://files.grouplens.org/datasets/movielens/ml-100k/u1.base'\n",
        "train_data = pd.read_csv(url, sep='\\t', header=None, names=['user_id', 'item_id', 'rating', 'timestamp'])\n",
        "\n",
        "url = 'http://files.grouplens.org/datasets/movielens/ml-100k/u1.test'\n",
        "test_data = pd.read_csv(url, sep='\\t', header=None, names=['user_id', 'item_id', 'rating', 'timestamp'])\n"
      ],
      "metadata": {
        "id": "OSRf18Lz6Mso"
      },
      "execution_count": 43,
      "outputs": []
    },
    {
      "cell_type": "code",
      "source": [
        "# Convert data into user-item rating matrix\n",
        "train_matrix = np.zeros((943, 1682))\n",
        "for row in train_data.itertuples():\n",
        "    train_matrix[row[1]-1, row[2]-1] = row[3]\n",
        "\n",
        "test_matrix = np.zeros((943, 1682))\n",
        "for row in test_data.itertuples():\n",
        "    test_matrix[row[1]-1, row[2]-1] = row[3]\n"
      ],
      "metadata": {
        "id": "jT4BxSQm6PVs"
      },
      "execution_count": 44,
      "outputs": []
    },
    {
      "cell_type": "code",
      "source": [
        "# Define function for Schatten-p norm minimization\n",
        "def schatten_p_norm_minimization(matrix, p, lmbda, num_iters):\n",
        "    for i in range(num_iters):\n",
        "        U, S, Vt = svd(matrix, full_matrices=False)\n",
        "        S = np.sign(S) * np.maximum(np.abs(S) - lmbda * p, 0)\n",
        "        matrix = U @ np.diag(S) @ Vt\n",
        "    return matrix\n",
        "\n",
        "# Define function to calculate NMAE\n",
        "def calculate_nmae(actual, predicted):\n",
        "    mask = actual > 0\n",
        "    nmae = np.mean(np.abs(actual[mask] - predicted[mask]) / np.max(actual))\n",
        "    return nmae"
      ],
      "metadata": {
        "id": "cjCcARNN6SP_"
      },
      "execution_count": 52,
      "outputs": []
    },
    {
      "cell_type": "code",
      "source": [
        "# Perform Schatten-p norm minimization and calculate NMAE for p = 0.1, p = 0.5, and p = 1\n",
        "for p in [0.1, 0.5, 1]:\n",
        "    reconstructed_matrix = schatten_p_norm_minimization(train_matrix, p, 0.2, 100)\n",
        "    nmae = calculate_nmae(test_matrix, reconstructed_matrix)\n",
        "    print(f'NMAE for p = {p}: {nmae:f}')"
      ],
      "metadata": {
        "colab": {
          "base_uri": "https://localhost:8080/"
        },
        "id": "JKcCYn8b6Vsq",
        "outputId": "da92a555-3358-4082-b738-be1fc21a4586"
      },
      "execution_count": null,
      "outputs": [
        {
          "output_type": "stream",
          "name": "stdout",
          "text": [
            "NMAE for p = 0.1: 0.698824\n",
            "NMAE for p = 0.5: 0.665993\n"
          ]
        }
      ]
    },
    {
      "cell_type": "code",
      "source": [],
      "metadata": {
        "id": "z_JUVzqY6YTk"
      },
      "execution_count": null,
      "outputs": []
    }
  ]
}